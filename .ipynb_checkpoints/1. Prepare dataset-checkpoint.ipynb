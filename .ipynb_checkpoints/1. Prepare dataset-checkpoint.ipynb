{
 "cells": [
  {
   "cell_type": "code",
   "execution_count": 1,
   "id": "a443f6a2-16b0-44a4-a7cc-6a32bd59a6bb",
   "metadata": {
    "tags": []
   },
   "outputs": [],
   "source": [
    "import pandas as pd\n",
    "import numpy as np\n",
    "import zipfile\n",
    "import warnings\n",
    "\n",
    "warnings.filterwarnings(\"ignore\")"
   ]
  },
  {
   "cell_type": "code",
   "execution_count": 2,
   "id": "0bc8bd67-12c2-48dd-90d0-c241fdeea741",
   "metadata": {
    "collapsed": true,
    "jupyter": {
     "outputs_hidden": true
    },
    "tags": []
   },
   "outputs": [
    {
     "name": "stdout",
     "output_type": "stream",
     "text": [
      "Loading files/EFW.xlsx\n",
      "Loading files/FIW.xlsx\n",
      "Loading files/IEF.csv\n",
      "Loading files/P5D.xls\n",
      "Loading files/PTS.xlsx\n",
      "Loading files/WGI.xlsx\n",
      "Loading files/WB_DATA.zip\n"
     ]
    },
    {
     "ename": "KeyError",
     "evalue": "\"['country', 'ny_gdp_mktp_kd_zg', 'fp_cpi_totl_zg', 'ny_gdp_defl_kd_zg', 'gc_dod_totl_gd_zs', 'bn_cab_xoka_gd_zs', 'pa_nus_fcrf', 'ne_trd_gnfs_zs', 'tx_val_fuel_zs_un', 'ny_gdp_minr_rt_zs', 'ny_gdp_petr_rt_zs'] not in index\"",
     "output_type": "error",
     "traceback": [
      "\u001b[0;31m---------------------------------------------------------------------------\u001b[0m",
      "\u001b[0;31mKeyError\u001b[0m                                  Traceback (most recent call last)",
      "Cell \u001b[0;32mIn[2], line 3\u001b[0m\n\u001b[1;32m      1\u001b[0m \u001b[38;5;28;01mfrom\u001b[39;00m \u001b[38;5;21;01mfunctions\u001b[39;00m\u001b[38;5;21;01m.\u001b[39;00m\u001b[38;5;21;01mload\u001b[39;00m \u001b[38;5;28;01mimport\u001b[39;00m \u001b[38;5;241m*\u001b[39m\n\u001b[0;32m----> 3\u001b[0m datasets \u001b[38;5;241m=\u001b[39m \u001b[43mload\u001b[49m\u001b[43m(\u001b[49m\u001b[43m)\u001b[49m\n\u001b[1;32m      5\u001b[0m (efw, \u001b[38;5;66;03m# iso 1,2; 1970-2021\u001b[39;00m\n\u001b[1;32m      6\u001b[0m  fiw, \u001b[38;5;66;03m# no iso; 2006-2023\u001b[39;00m\n\u001b[1;32m      7\u001b[0m  ief, \u001b[38;5;66;03m# iso 1; 1995-2023\u001b[39;00m\n\u001b[0;32m   (...)\u001b[0m\n\u001b[1;32m     11\u001b[0m  wb \u001b[38;5;66;03m# iso 2; 1960-2023\u001b[39;00m\n\u001b[1;32m     12\u001b[0m ) \u001b[38;5;241m=\u001b[39m (datasets[k] \u001b[38;5;28;01mfor\u001b[39;00m k \u001b[38;5;129;01min\u001b[39;00m [\u001b[38;5;124m\"\u001b[39m\u001b[38;5;124mefw\u001b[39m\u001b[38;5;124m\"\u001b[39m, \u001b[38;5;124m\"\u001b[39m\u001b[38;5;124mfiw\u001b[39m\u001b[38;5;124m\"\u001b[39m, \u001b[38;5;124m\"\u001b[39m\u001b[38;5;124mief\u001b[39m\u001b[38;5;124m\"\u001b[39m, \u001b[38;5;124m\"\u001b[39m\u001b[38;5;124mp5d\u001b[39m\u001b[38;5;124m\"\u001b[39m, \u001b[38;5;124m\"\u001b[39m\u001b[38;5;124mpts\u001b[39m\u001b[38;5;124m\"\u001b[39m, \u001b[38;5;124m\"\u001b[39m\u001b[38;5;124mwgi\u001b[39m\u001b[38;5;124m\"\u001b[39m, \u001b[38;5;124m\"\u001b[39m\u001b[38;5;124mwb\u001b[39m\u001b[38;5;124m\"\u001b[39m])\n",
      "File \u001b[0;32m~/Desktop/code/instquality/functions/load.py:29\u001b[0m, in \u001b[0;36mload\u001b[0;34m(folder)\u001b[0m\n\u001b[1;32m     27\u001b[0m \u001b[38;5;28;01melif\u001b[39;00m typ\u001b[38;5;241m==\u001b[39m\u001b[38;5;124m'\u001b[39m\u001b[38;5;124mexcel\u001b[39m\u001b[38;5;124m'\u001b[39m: df\u001b[38;5;241m=\u001b[39mpd\u001b[38;5;241m.\u001b[39mread_excel(path,\u001b[38;5;241m*\u001b[39m\u001b[38;5;241m*\u001b[39mopts)\n\u001b[1;32m     28\u001b[0m \u001b[38;5;28;01melif\u001b[39;00m typ\u001b[38;5;241m==\u001b[39m\u001b[38;5;124m'\u001b[39m\u001b[38;5;124mwgi\u001b[39m\u001b[38;5;124m'\u001b[39m: df\u001b[38;5;241m=\u001b[39mload_wgi(path)\n\u001b[0;32m---> 29\u001b[0m \u001b[38;5;28;01melse\u001b[39;00m: df\u001b[38;5;241m=\u001b[39m\u001b[43mload_wb\u001b[49m\u001b[43m(\u001b[49m\u001b[43mpath\u001b[49m\u001b[43m)\u001b[49m\n\u001b[1;32m     30\u001b[0m \u001b[38;5;28;01mif\u001b[39;00m pf: df\u001b[38;5;241m=\u001b[39mpf(df)\n\u001b[1;32m     31\u001b[0m \u001b[38;5;66;03m# Functions\u001b[39;00m\n",
      "File \u001b[0;32m~/Desktop/code/instquality/functions/load.py:146\u001b[0m, in \u001b[0;36mload_wb\u001b[0;34m(zipname)\u001b[0m\n\u001b[1;32m    144\u001b[0m         wb \u001b[38;5;241m=\u001b[39m pd\u001b[38;5;241m.\u001b[39mread_csv(f)            \u001b[38;5;66;03m# read it straight into a DataFrame\u001b[39;00m\n\u001b[1;32m    145\u001b[0m         wb \u001b[38;5;241m=\u001b[39m wb\u001b[38;5;241m.\u001b[39mpivot_table(index\u001b[38;5;241m=\u001b[39m[\u001b[38;5;124m'\u001b[39m\u001b[38;5;124mcountry_code\u001b[39m\u001b[38;5;124m'\u001b[39m, \u001b[38;5;124m'\u001b[39m\u001b[38;5;124mcountry_name\u001b[39m\u001b[38;5;124m'\u001b[39m, \u001b[38;5;124m'\u001b[39m\u001b[38;5;124myear\u001b[39m\u001b[38;5;124m'\u001b[39m], columns\u001b[38;5;241m=\u001b[39m\u001b[38;5;124m'\u001b[39m\u001b[38;5;124mseries_id\u001b[39m\u001b[38;5;124m'\u001b[39m, values\u001b[38;5;241m=\u001b[39m\u001b[38;5;124m'\u001b[39m\u001b[38;5;124mvalue\u001b[39m\u001b[38;5;124m'\u001b[39m)\u001b[38;5;241m.\u001b[39mreset_index() \u001b[38;5;66;03m# and pivot straight away\u001b[39;00m\n\u001b[0;32m--> 146\u001b[0m wb \u001b[38;5;241m=\u001b[39m \u001b[43mrestrict_and_engineer\u001b[49m\u001b[43m(\u001b[49m\u001b[43mwb\u001b[49m\u001b[43m)\u001b[49m\n\u001b[1;32m    147\u001b[0m \u001b[38;5;28;01mreturn\u001b[39;00m wb\n",
      "File \u001b[0;32m~/Desktop/code/instquality/functions/load.py:130\u001b[0m, in \u001b[0;36mrestrict_and_engineer\u001b[0;34m(df)\u001b[0m\n\u001b[1;32m    128\u001b[0m \u001b[38;5;66;03m# include institutional quality measures\u001b[39;00m\n\u001b[1;32m    129\u001b[0m cols \u001b[38;5;241m+\u001b[39m\u001b[38;5;241m=\u001b[39m [c \u001b[38;5;28;01mfor\u001b[39;00m c \u001b[38;5;129;01min\u001b[39;00m df\u001b[38;5;241m.\u001b[39mcolumns \u001b[38;5;28;01mif\u001b[39;00m c\u001b[38;5;241m.\u001b[39mstartswith(\u001b[38;5;124m\"\u001b[39m\u001b[38;5;124miq\u001b[39m\u001b[38;5;124m\"\u001b[39m)]\n\u001b[0;32m--> 130\u001b[0m df \u001b[38;5;241m=\u001b[39m \u001b[43mdf\u001b[49m\u001b[43m[\u001b[49m\u001b[43mcols\u001b[49m\u001b[43m]\u001b[49m\u001b[38;5;241m.\u001b[39mcopy()\u001b[38;5;241m.\u001b[39msort_values([\u001b[38;5;124m\"\u001b[39m\u001b[38;5;124mcountry\u001b[39m\u001b[38;5;124m\"\u001b[39m,\u001b[38;5;124m\"\u001b[39m\u001b[38;5;124myear\u001b[39m\u001b[38;5;124m\"\u001b[39m])\n\u001b[1;32m    132\u001b[0m \u001b[38;5;66;03m# engineer features\u001b[39;00m\n\u001b[1;32m    133\u001b[0m df[\u001b[38;5;124m\"\u001b[39m\u001b[38;5;124mfx_dep_yoy\u001b[39m\u001b[38;5;124m\"\u001b[39m] \u001b[38;5;241m=\u001b[39m df\u001b[38;5;241m.\u001b[39mgroupby(\u001b[38;5;124m\"\u001b[39m\u001b[38;5;124mcountry\u001b[39m\u001b[38;5;124m\"\u001b[39m)[\u001b[38;5;124m\"\u001b[39m\u001b[38;5;124mpa_nus_fcrf\u001b[39m\u001b[38;5;124m\"\u001b[39m]\u001b[38;5;241m.\u001b[39mtransform(\u001b[38;5;28;01mlambda\u001b[39;00m s: np\u001b[38;5;241m.\u001b[39mlog(s)\u001b[38;5;241m.\u001b[39mdiff())\n",
      "File \u001b[0;32m/opt/anaconda3/lib/python3.9/site-packages/pandas/core/frame.py:4108\u001b[0m, in \u001b[0;36mDataFrame.__getitem__\u001b[0;34m(self, key)\u001b[0m\n\u001b[1;32m   4106\u001b[0m     \u001b[38;5;28;01mif\u001b[39;00m is_iterator(key):\n\u001b[1;32m   4107\u001b[0m         key \u001b[38;5;241m=\u001b[39m \u001b[38;5;28mlist\u001b[39m(key)\n\u001b[0;32m-> 4108\u001b[0m     indexer \u001b[38;5;241m=\u001b[39m \u001b[38;5;28;43mself\u001b[39;49m\u001b[38;5;241;43m.\u001b[39;49m\u001b[43mcolumns\u001b[49m\u001b[38;5;241;43m.\u001b[39;49m\u001b[43m_get_indexer_strict\u001b[49m\u001b[43m(\u001b[49m\u001b[43mkey\u001b[49m\u001b[43m,\u001b[49m\u001b[43m \u001b[49m\u001b[38;5;124;43m\"\u001b[39;49m\u001b[38;5;124;43mcolumns\u001b[39;49m\u001b[38;5;124;43m\"\u001b[39;49m\u001b[43m)\u001b[49m[\u001b[38;5;241m1\u001b[39m]\n\u001b[1;32m   4110\u001b[0m \u001b[38;5;66;03m# take() does not accept boolean indexers\u001b[39;00m\n\u001b[1;32m   4111\u001b[0m \u001b[38;5;28;01mif\u001b[39;00m \u001b[38;5;28mgetattr\u001b[39m(indexer, \u001b[38;5;124m\"\u001b[39m\u001b[38;5;124mdtype\u001b[39m\u001b[38;5;124m\"\u001b[39m, \u001b[38;5;28;01mNone\u001b[39;00m) \u001b[38;5;241m==\u001b[39m \u001b[38;5;28mbool\u001b[39m:\n",
      "File \u001b[0;32m/opt/anaconda3/lib/python3.9/site-packages/pandas/core/indexes/base.py:6200\u001b[0m, in \u001b[0;36mIndex._get_indexer_strict\u001b[0;34m(self, key, axis_name)\u001b[0m\n\u001b[1;32m   6197\u001b[0m \u001b[38;5;28;01melse\u001b[39;00m:\n\u001b[1;32m   6198\u001b[0m     keyarr, indexer, new_indexer \u001b[38;5;241m=\u001b[39m \u001b[38;5;28mself\u001b[39m\u001b[38;5;241m.\u001b[39m_reindex_non_unique(keyarr)\n\u001b[0;32m-> 6200\u001b[0m \u001b[38;5;28;43mself\u001b[39;49m\u001b[38;5;241;43m.\u001b[39;49m\u001b[43m_raise_if_missing\u001b[49m\u001b[43m(\u001b[49m\u001b[43mkeyarr\u001b[49m\u001b[43m,\u001b[49m\u001b[43m \u001b[49m\u001b[43mindexer\u001b[49m\u001b[43m,\u001b[49m\u001b[43m \u001b[49m\u001b[43maxis_name\u001b[49m\u001b[43m)\u001b[49m\n\u001b[1;32m   6202\u001b[0m keyarr \u001b[38;5;241m=\u001b[39m \u001b[38;5;28mself\u001b[39m\u001b[38;5;241m.\u001b[39mtake(indexer)\n\u001b[1;32m   6203\u001b[0m \u001b[38;5;28;01mif\u001b[39;00m \u001b[38;5;28misinstance\u001b[39m(key, Index):\n\u001b[1;32m   6204\u001b[0m     \u001b[38;5;66;03m# GH 42790 - Preserve name from an Index\u001b[39;00m\n",
      "File \u001b[0;32m/opt/anaconda3/lib/python3.9/site-packages/pandas/core/indexes/base.py:6252\u001b[0m, in \u001b[0;36mIndex._raise_if_missing\u001b[0;34m(self, key, indexer, axis_name)\u001b[0m\n\u001b[1;32m   6249\u001b[0m     \u001b[38;5;28;01mraise\u001b[39;00m \u001b[38;5;167;01mKeyError\u001b[39;00m(\u001b[38;5;124mf\u001b[39m\u001b[38;5;124m\"\u001b[39m\u001b[38;5;124mNone of [\u001b[39m\u001b[38;5;132;01m{\u001b[39;00mkey\u001b[38;5;132;01m}\u001b[39;00m\u001b[38;5;124m] are in the [\u001b[39m\u001b[38;5;132;01m{\u001b[39;00maxis_name\u001b[38;5;132;01m}\u001b[39;00m\u001b[38;5;124m]\u001b[39m\u001b[38;5;124m\"\u001b[39m)\n\u001b[1;32m   6251\u001b[0m not_found \u001b[38;5;241m=\u001b[39m \u001b[38;5;28mlist\u001b[39m(ensure_index(key)[missing_mask\u001b[38;5;241m.\u001b[39mnonzero()[\u001b[38;5;241m0\u001b[39m]]\u001b[38;5;241m.\u001b[39munique())\n\u001b[0;32m-> 6252\u001b[0m \u001b[38;5;28;01mraise\u001b[39;00m \u001b[38;5;167;01mKeyError\u001b[39;00m(\u001b[38;5;124mf\u001b[39m\u001b[38;5;124m\"\u001b[39m\u001b[38;5;132;01m{\u001b[39;00mnot_found\u001b[38;5;132;01m}\u001b[39;00m\u001b[38;5;124m not in index\u001b[39m\u001b[38;5;124m\"\u001b[39m)\n",
      "\u001b[0;31mKeyError\u001b[0m: \"['country', 'ny_gdp_mktp_kd_zg', 'fp_cpi_totl_zg', 'ny_gdp_defl_kd_zg', 'gc_dod_totl_gd_zs', 'bn_cab_xoka_gd_zs', 'pa_nus_fcrf', 'ne_trd_gnfs_zs', 'tx_val_fuel_zs_un', 'ny_gdp_minr_rt_zs', 'ny_gdp_petr_rt_zs'] not in index\""
     ]
    }
   ],
   "source": [
    "from functions.load import *\n",
    "\n",
    "datasets = load()\n",
    "\n",
    "(efw, # iso 1,2; 1970-2021\n",
    " fiw, # no iso; 2006-2023\n",
    " ief, # iso 1; 1995-2023\n",
    " p5d, # no iso; 1960-2020\n",
    " pts, # iso 2; 1976-2022\n",
    " wgi, # iso 2; 1996-2022\n",
    " wb, # iso 2; 1960-2023\n",
    " oecd # target variable\n",
    ") = (datasets[k] for k in [\"efw\", \"fiw\", \"ief\", \"p5d\", \"pts\", \"wgi\", \"wb\", \"tgt\"])"
   ]
  },
  {
   "cell_type": "code",
   "execution_count": null,
   "id": "4223591f-8fc7-4b16-bacc-3b70bfcf74a6",
   "metadata": {
    "tags": []
   },
   "outputs": [],
   "source": [
    "from functions.merge import *\n",
    "\n",
    "dfs = [efw, fiw, ief, p5d, pts, wgi, wb, tgt]\n",
    "names = ['efw', 'fiw', 'ief', 'p5d', 'pts', 'wgi', 'wb', 'tgt']\n",
    "\n",
    "conc = create_concordance(dfs)\n",
    "\n",
    "for i, name in enumerate(names):\n",
    "    dfs[i] = apply_concordance(dfs[i], conc, name)\n",
    "    \n",
    "efw, fiw, ief, p5d, pts, wgi, wb, tgt = dfs\n",
    "\n",
    "cdfs = [df.drop_duplicates(subset=['country', 'year'])\n",
    "        for df in dfs\n",
    "        #if df is not wb\n",
    "]\n",
    "\n",
    "merged = merge(cdfs, conc)"
   ]
  },
  {
   "cell_type": "code",
   "execution_count": null,
   "id": "caac4594-cbc6-4cf7-aaa2-aa4ab008febf",
   "metadata": {
    "tags": []
   },
   "outputs": [],
   "source": [
    "from functions.prepare import *\n",
    "\n",
    "df = fill(merged)"
   ]
  },
  {
   "cell_type": "code",
   "execution_count": null,
   "id": "033fbd8c-2fea-4dc4-9422-b2fc4db47141",
   "metadata": {},
   "outputs": [],
   "source": [
    "# save\n",
    "\n",
    "df.to_pickle(\"pickles/inst.dat\")"
   ]
  }
 ],
 "metadata": {
  "kernelspec": {
   "display_name": "Python 3 (ipykernel)",
   "language": "python",
   "name": "python3"
  },
  "language_info": {
   "codemirror_mode": {
    "name": "ipython",
    "version": 3
   },
   "file_extension": ".py",
   "mimetype": "text/x-python",
   "name": "python",
   "nbconvert_exporter": "python",
   "pygments_lexer": "ipython3",
   "version": "3.9.7"
  }
 },
 "nbformat": 4,
 "nbformat_minor": 5
}
