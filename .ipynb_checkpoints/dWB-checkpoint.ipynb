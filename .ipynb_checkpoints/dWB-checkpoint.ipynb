{
 "cells": [
  {
   "cell_type": "code",
   "execution_count": 2,
   "id": "9c9402e9-6335-4369-89df-5d15fd3d11ba",
   "metadata": {},
   "outputs": [],
   "source": [
    "import pandas as pd"
   ]
  },
  {
   "cell_type": "markdown",
   "id": "d47694d3-5348-4ab9-991d-f30fbcc250a3",
   "metadata": {},
   "source": [
    "Technical stuff\n",
    "- Fill NaNs with (group) averages or previous obs\n",
    "\n",
    "More data\n",
    "- geopoints\n",
    "- Trade statistics"
   ]
  },
  {
   "cell_type": "markdown",
   "id": "7e24c1cc-40e8-4772-8270-04bfd70f988c",
   "metadata": {
    "tags": []
   },
   "source": [
    "### Load and pre-process WB data"
   ]
  },
  {
   "cell_type": "code",
   "execution_count": 25,
   "id": "a2082253-38eb-4470-bb84-c3ad20108d6b",
   "metadata": {},
   "outputs": [],
   "source": [
    "# Load\n",
    "wb = pd.read_csv(\"nasdaq/WB_DATA_20240523.csv\")\n",
    "\n",
    "# Pre-process\n",
    "wb = wb[wb.year.notnull()]\n",
    "wb['year'] = wb['year'].astype(int)\n",
    "wb = wb.rename(columns={\"series_id\": \"indicator\"})\n",
    "wb['country_name'] = wb['country_name'].replace('Czechia', 'Czech Republic')\n",
    "wb['country_name'] = wb['country_name'].replace(\"Korea, Dem. Peopleâ\\x80\\x99s Rep.\", \"Korea, Dem. People's Rep.\")\n",
    "\n",
    "# Pivot\n",
    "wb = wb.pivot_table(index=['country_code', 'country_name', 'year'], columns='indicator', values='value').reset_index()"
   ]
  },
  {
   "cell_type": "markdown",
   "id": "32a77ca3-a977-4a63-9212-7288587a0429",
   "metadata": {
    "tags": []
   },
   "source": [
    "### Drop country groups\n",
    "- These could potentially be used for filling NaNs of group memebers\n",
    "- Does not have lower coverage than WB countries on average"
   ]
  },
  {
   "cell_type": "code",
   "execution_count": 36,
   "id": "2c2eb29e-f6c0-4453-9945-092632df8875",
   "metadata": {},
   "outputs": [],
   "source": [
    "country_groups = [\n",
    "    '(UN) Africa', '(UN) Asia', '(UN) Europe', '(UN) Latin America and the Caribbean', \n",
    "    '(UN) North America', '(SDG) Central/Southern Asia', '(SDG) Eastern/South Eastern Asia', \n",
    "    '(SDG) Europe', '(SDG) Latin America & the Caribbean', '(SDG) Northern America', \n",
    "    '(SDG) Sub-Saharan Africa', '(SDG) Western Asia/Northern Africa',\n",
    "    'Africa Eastern and Southern', 'Africa Western and Central',\n",
    "    'Association of Southeast Asian Nations (ASEAN-5)',\n",
    "    'Central Europe and the Baltics', 'Caribbean small states',\n",
    "    'East Asia & Pacific (excluding high income)', 'East Asia & Pacific',\n",
    "    'Europe & Central Asia (excluding high income)', 'Europe & Central Asia',\n",
    "    'Emerging and Developing Europe', 'Euro area',\n",
    "    'Europe & Central Asia (IDA & IBRD countries)',\n",
    "    'Latin America & Caribbean (excluding high income)', 'Latin America & Caribbean',\n",
    "    'Least developed countries: UN classification', 'Middle East & North Africa',\n",
    "    'Middle East & Central Asia', 'Pacific island small states',\n",
    "    'South Asia (IDA & IBRD)', 'Small states',\n",
    "    'Sub-Saharan Africa (excluding high income)',\n",
    "    'Sub-Saharan Africa (IDA & IBRD countries)',\n",
    "    'Upper middle income', 'IBRD only', 'IDA & IBRD total', 'IDA total', 'IDA blend',\n",
    "    'OECD members', 'OECD Member Countries',\n",
    "    'Other Advanced Economies', 'Other small states',\n",
    "    'Heavily indebted poor countries (HIPC)', 'High income', 'Low income', 'Lower middle income',\n",
    "    'Low & middle income', 'Post-demographic dividend', 'Pre-demographic dividend',\n",
    "    'Fragile and conflict affected situations', 'East Asia & Pacific (IDA & IBRD countries)',\n",
    "    'Latin America & the Caribbean (IDA & IBRD countries)',\n",
    "    'Middle East & North Africa (IDA & IBRD countries)', '(WHO) Africa Region',\n",
    "    '(WHO) America Region', '(WHO) South-East Asia Region',\n",
    "    '(WHO) Eastern Mediterranean Region', '(WHO) European Region',\n",
    "    '(WHO) Western Pacific Region', 'Unknown or unspecified', 'Arab World',\n",
    "    'Developed Asia', 'Early-demographic dividend', 'FAO (Food and Agriculture Organization)',\n",
    "    'IDA only', 'Late-demographic dividend', 'Middle income',\n",
    "    'Middle East & North Africa (excluding high income)',\n",
    "    'World Bank Group', 'Western Europe', 'World',\n",
    "    'European Union', 'Euro Area', 'Sub-Saharan Africa', 'North America',\n",
    "    'South Asia']\n",
    "\n",
    "wb = wb[~wb['country_name'].isin(country_groups)].reset_index(drop=True)"
   ]
  },
  {
   "cell_type": "markdown",
   "id": "aac84ae5-9acf-4175-b917-cb7baceb58fd",
   "metadata": {
    "tags": []
   },
   "source": [
    "### Drop NaN columns"
   ]
  },
  {
   "cell_type": "code",
   "execution_count": 37,
   "id": "114b89dc-ddd7-487d-8f06-dc189b5561b9",
   "metadata": {},
   "outputs": [
    {
     "name": "stdout",
     "output_type": "stream",
     "text": [
      "We have dropped 531 columns with more than 80 percent NaN observations.\n"
     ]
    }
   ],
   "source": [
    "# Drop cols with more than 80 percent NaNs\n",
    "threshold = 0.2 * len(wb)\n",
    "df = wb.dropna(axis=1, thresh=threshold)\n",
    "print(\"We have dropped\", len(wb.columns)-len(df.columns), \"columns with more than 80 percent NaN observations.\")"
   ]
  },
  {
   "cell_type": "code",
   "execution_count": 35,
   "id": "f7f2d7e4-75c1-4f05-a01c-f82e026f52ec",
   "metadata": {},
   "outputs": [
    {
     "data": {
      "text/plain": [
       "0.4811117081231797"
      ]
     },
     "execution_count": 35,
     "metadata": {},
     "output_type": "execute_result"
    }
   ],
   "source": [
    "(df.notnull().sum()/len(df)).mean()"
   ]
  }
 ],
 "metadata": {
  "kernelspec": {
   "display_name": "Python 3 (ipykernel)",
   "language": "python",
   "name": "python3"
  },
  "language_info": {
   "codemirror_mode": {
    "name": "ipython",
    "version": 3
   },
   "file_extension": ".py",
   "mimetype": "text/x-python",
   "name": "python",
   "nbconvert_exporter": "python",
   "pygments_lexer": "ipython3",
   "version": "3.9.7"
  }
 },
 "nbformat": 4,
 "nbformat_minor": 5
}
