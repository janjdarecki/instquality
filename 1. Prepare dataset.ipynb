{
 "cells": [
  {
   "cell_type": "code",
   "execution_count": 1,
   "id": "a443f6a2-16b0-44a4-a7cc-6a32bd59a6bb",
   "metadata": {
    "tags": []
   },
   "outputs": [],
   "source": [
    "import pandas as pd\n",
    "import numpy as np\n",
    "import zipfile\n",
    "import warnings\n",
    "\n",
    "warnings.filterwarnings(\"ignore\")\n",
    "\n",
    "from functions.load import *\n",
    "from functions.merge import *\n",
    "from functions.prepare import *"
   ]
  },
  {
   "cell_type": "code",
   "execution_count": 2,
   "id": "0bc8bd67-12c2-48dd-90d0-c241fdeea741",
   "metadata": {
    "tags": []
   },
   "outputs": [
    {
     "name": "stdout",
     "output_type": "stream",
     "text": [
      "Loading pickles/EFW.xlsx\n",
      "Loading pickles/FIW.xlsx\n",
      "Loading pickles/IEF.csv\n",
      "Loading pickles/P5D.xls\n",
      "Loading pickles/PTS.xlsx\n",
      "Loading pickles/WGI.xlsx\n",
      "Loading pickles/WB_DATA.zip\n"
     ]
    }
   ],
   "source": [
    "# load.py\n",
    "\n",
    "datasets = load()\n",
    "\n",
    "(efw, # iso 1,2; 1970-2021\n",
    " fiw, # no iso; 2006-2023\n",
    " ief, # iso 1; 1995-2023\n",
    " p5d, # no iso; 1960-2020\n",
    " pts, # iso 2; 1976-2022\n",
    " wgi, # iso 2; 1996-2022\n",
    " wb # iso 2; 1960-2023\n",
    ") = (datasets[k] for k in [\"efw\", \"fiw\", \"ief\", \"p5d\", \"pts\", \"wgi\", \"wb\"])"
   ]
  },
  {
   "cell_type": "code",
   "execution_count": 3,
   "id": "4223591f-8fc7-4b16-bacc-3b70bfcf74a6",
   "metadata": {
    "collapsed": true,
    "jupyter": {
     "outputs_hidden": true
    },
    "tags": []
   },
   "outputs": [
    {
     "name": "stderr",
     "output_type": "stream",
     "text": [
      "German Democratic Republic not found in regex\n",
      "German Federal Republic not found in regex\n",
      "Germany East not found in regex\n",
      "Germany West not found in regex\n",
      "Serbia and Montenegro not found in regex\n",
      "Soviet Union not found in regex\n",
      "UAE not found in ISO3\n",
      "USSR not found in regex\n",
      "Yugoslavia not found in regex\n",
      "Yugoslavia, Federal Republic of not found in regex\n",
      "Yugoslavia, Socialist Federal Republic of not found in regex\n",
      "German Democratic Republic not found in regex\n",
      "German Federal Republic not found in regex\n",
      "Germany East not found in regex\n",
      "Germany West not found in regex\n",
      "Serbia and Montenegro not found in regex\n",
      "Soviet Union not found in regex\n",
      "UAE not found in ISO3\n",
      "USSR not found in regex\n",
      "Yugoslavia not found in regex\n",
      "Yugoslavia, Federal Republic of not found in regex\n",
      "Yugoslavia, Socialist Federal Republic of not found in regex\n",
      "CS not found in ISO2\n",
      "DD not found in ISO2\n",
      "DD not found in ISO2\n",
      "SU not found in ISO2\n",
      "SU not found in ISO2\n",
      "YU not found in ISO2\n",
      "YU not found in ISO2\n",
      "YU not found in ISO2\n"
     ]
    },
    {
     "name": "stdout",
     "output_type": "stream",
     "text": [
      "Removed from efw: []\n",
      "Removed from fiw: ['Abkhazia' 'Antigua and Barbuda' 'Chechnya' 'Crimea' 'Eastern Donbas'\n",
      " 'Gaza Strip' 'Indian Kashmir' 'Israeli Occupied Territories' 'Kiribati'\n",
      " 'Marshall Islands' 'Micronesia' 'Nagorno-Karabakh' 'Northern Cyprus'\n",
      " 'Pakistani Kashmir' 'Palau' 'Samoa' 'Solomon Islands' 'Somaliland'\n",
      " 'South Ossetia' 'St. Kitts and Nevis' 'St. Lucia'\n",
      " 'St. Vincent and the Grenadines' 'Tibet' 'Tonga' 'Transnistria' 'Tuvalu'\n",
      " 'Vanuatu']\n",
      "Removed from ief: ['Kiribati' 'Micronesia' 'Saint Lucia' 'Saint Vincent and the Grenadines'\n",
      " 'Samoa' 'Solomon Islands' 'Tonga' 'Vanuatu']\n",
      "Removed from p5d: ['Solomon Islands' 'South Vietnam' 'Vietnam North' 'Yemen North'\n",
      " 'Yemen South']\n",
      "Removed from pts: ['Antigua and Barbuda' 'Crimea' 'European Union' 'Gaza (Hamas)'\n",
      " 'Israel in Occupied Territories' 'Israel in pre-1967 borders' 'Kiribati'\n",
      " 'Marshall Islands' 'Micronesia, Federated States of' 'Palau'\n",
      " 'Russia-Occupied Areas (Ukraine)' 'Saint Kitts and Nevis' 'Saint Lucia'\n",
      " 'Saint Vincent and the Grenadines' 'Samoa' 'Solomon Islands' 'Somaliland'\n",
      " 'Tonga' 'Tuvalu' 'Vanuatu']\n",
      "Removed from wgi: ['American Samoa' 'Anguilla' 'Antigua and Barbuda' 'Aruba'\n",
      " 'Cayman Islands' 'Cook Islands' 'Greenland' 'Guam'\n",
      " 'Jersey, Channel Islands' 'Kiribati' 'Marshall Islands'\n",
      " 'Micronesia, Fed. Sts.' 'Netherlands Antilles (former)' 'Niue' 'Palau'\n",
      " 'Réunion' 'Samoa' 'Solomon Islands' 'St. Kitts and Nevis' 'St. Lucia'\n",
      " 'St. Vincent and the Grenadines' 'Tonga' 'Tuvalu' 'Vanuatu'\n",
      " 'Virgin Islands (U.S.)' 'West Bank and Gaza']\n",
      "Removed from wb: ['(SDG) Central/Southern Asia' '(SDG) Eastern/South Eastern Asia'\n",
      " '(SDG) Europe' '(SDG) Latin America & the Caribbean'\n",
      " '(SDG) Northern America' '(SDG) Oceania' '(SDG) Sub-Saharan Africa'\n",
      " '(SDG) Western Asia/Northern Africa' '(UN) Africa' '(UN) Asia'\n",
      " '(UN) Europe' '(UN) Latin America and the Caribbean' '(UN) North America'\n",
      " '(UN) Oceania' '(WHO) Africa Region' '(WHO) America Region'\n",
      " '(WHO) Eastern Mediterranean Region' '(WHO) European Region'\n",
      " '(WHO) South-East Asia Region' '(WHO) Western Pacific Region'\n",
      " 'Africa Eastern and Southern' 'Africa Western and Central'\n",
      " 'American Samoa' 'Anguilla' 'Antigua and Barbuda' 'Arab League states'\n",
      " 'Arab World' 'Aruba' 'British Virgin Islands' 'Caribbean small states'\n",
      " 'Cayman Islands' 'Central Europe and the Baltics' 'Channel Islands'\n",
      " 'Cook Islands' 'Early-demographic dividend' 'East Asia & Pacific'\n",
      " 'East Asia & Pacific (IDA & IBRD countries)'\n",
      " 'East Asia & Pacific (IDA & IBRD)'\n",
      " 'East Asia & Pacific (all income levels)'\n",
      " 'East Asia & Pacific (excluding high income)' 'Euro area'\n",
      " 'Europe & Central Asia' 'Europe & Central Asia (IDA & IBRD countries)'\n",
      " 'Europe & Central Asia (IDA & IBRD)'\n",
      " 'Europe & Central Asia (all income levels)'\n",
      " 'Europe & Central Asia (excluding high income)' 'European Union'\n",
      " 'Fragile and conflict affected situations' 'Greenland' 'Guam'\n",
      " 'Heavily indebted poor countries (HIPC)' 'High income'\n",
      " 'High income: OECD' 'High income: nonOECD' 'IBRD only' 'IDA & IBRD total'\n",
      " 'IDA blend' 'IDA only' 'IDA total' 'Isle of Man'\n",
      " 'Jersey, Channel Islands' 'Kiribati' 'Late-demographic dividend'\n",
      " 'Latin America & Caribbean' 'Latin America & Caribbean (IDA & IBRD)'\n",
      " 'Latin America & Caribbean (all income levels)'\n",
      " 'Latin America & Caribbean (excluding high income)'\n",
      " 'Latin America & the Caribbean (IDA & IBRD countries)'\n",
      " 'Least developed countries: UN classification' 'Low & middle income'\n",
      " 'Low income' 'Lower middle income' 'Marshall Islands'\n",
      " 'Micronesia, Fed. Sts.' 'Middle East & North Africa'\n",
      " 'Middle East & North Africa (IDA & IBRD countries)'\n",
      " 'Middle East & North Africa (IDA & IBRD)'\n",
      " 'Middle East & North Africa (all income levels)'\n",
      " 'Middle East & North Africa (excluding high income)' 'Middle income'\n",
      " 'Netherlands Antilles' 'New Caledonia' 'Niue' 'North America'\n",
      " 'Northern Mariana Islands' 'OECD members' 'Other small states'\n",
      " 'Pacific island small states' 'Palau' 'Post-demographic dividend'\n",
      " 'Pre-demographic dividend' 'Samoa' 'Sint Maarten (Dutch part)'\n",
      " 'Small states' 'Solomon Islands' 'South Asia' 'South Asia (IDA & IBRD)'\n",
      " 'St. Kitts and Nevis' 'St. Lucia' 'St. Martin (French part)'\n",
      " 'St. Vincent and the Grenadines' 'Sub-Saharan Africa'\n",
      " 'Sub-Saharan Africa (IDA & IBRD countries)'\n",
      " 'Sub-Saharan Africa (IDA & IBRD)'\n",
      " 'Sub-Saharan Africa (all income levels)'\n",
      " 'Sub-Saharan Africa (excluding high income)' 'Tonga'\n",
      " 'Turks and Caicos Islands' 'Tuvalu' 'Upper middle income' 'Vanuatu'\n",
      " 'Virgin Islands (U.S.)' 'West Bank and Gaza' 'World']\n"
     ]
    }
   ],
   "source": [
    "# merge.py\n",
    "\n",
    "dfs = [efw, fiw, ief, p5d, pts, wgi, wb]\n",
    "names = ['efw', 'fiw', 'ief', 'p5d', 'pts', 'wgi', 'wb']\n",
    "\n",
    "conc = create_concordance(dfs)\n",
    "\n",
    "for i, name in enumerate(names):\n",
    "    dfs[i] = apply_concordance(dfs[i], conc, name)\n",
    "    \n",
    "efw, fiw, ief, p5d, pts, wgi, wb = dfs\n",
    "\n",
    "cdfs = [df.drop_duplicates(subset=['country', 'year'])\n",
    "        for df in dfs\n",
    "        # if df is not wb\n",
    "]\n",
    "\n",
    "merged = merge(cdfs, conc)"
   ]
  },
  {
   "cell_type": "code",
   "execution_count": 18,
   "id": "caac4594-cbc6-4cf7-aaa2-aa4ab008febf",
   "metadata": {
    "tags": []
   },
   "outputs": [],
   "source": [
    "# prepare.py\n",
    "\n",
    "# df = fill(merged)\n",
    "# dfst = standardise(df)\n",
    "dfst.to_pickle(\"pickles/prepared.dat\")\n",
    "df.to_pickle(\"pickles/unst.dat\")"
   ]
  }
 ],
 "metadata": {
  "kernelspec": {
   "display_name": "Python 3 (ipykernel)",
   "language": "python",
   "name": "python3"
  },
  "language_info": {
   "codemirror_mode": {
    "name": "ipython",
    "version": 3
   },
   "file_extension": ".py",
   "mimetype": "text/x-python",
   "name": "python",
   "nbconvert_exporter": "python",
   "pygments_lexer": "ipython3",
   "version": "3.10.9"
  }
 },
 "nbformat": 4,
 "nbformat_minor": 5
}
