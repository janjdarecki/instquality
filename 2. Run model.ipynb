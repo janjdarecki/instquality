{
 "cells": [
  {
   "cell_type": "code",
   "execution_count": 3,
   "id": "5dfb606d-a86e-4f02-90be-d7e2fa8ee24b",
   "metadata": {
    "tags": []
   },
   "outputs": [],
   "source": [
    "import pandas as pd\n",
    "\n",
    "from functions.utils import *"
   ]
  },
  {
   "cell_type": "code",
   "execution_count": 8,
   "id": "889e4934-076f-40d5-9944-28e939feed5e",
   "metadata": {
    "tags": []
   },
   "outputs": [],
   "source": [
    "dfst = pd.read_pickle(\"pickles/prepared.dat\")\n",
    "df = pd.read_pickle(\"pickles/unst.dat\")"
   ]
  },
  {
   "cell_type": "code",
   "execution_count": 33,
   "id": "90ecb8e6-37cb-4df0-b4e4-fc3adc09c15c",
   "metadata": {
    "tags": []
   },
   "outputs": [
    {
     "data": {
      "text/plain": [
       "Index(['wb_eg_gdp_puse_ko_pp', 'wb_eg_gdp_puse_ko_pp_kd',\n",
       "       'wb_er_gdp_fwtl_m3_kd', 'wb_ny_gdp_coal_rt_zs', 'wb_ny_gdp_defl_kd_zg',\n",
       "       'wb_ny_gdp_defl_kd_zg_ad', 'wb_ny_gdp_defl_zs', 'wb_ny_gdp_defl_zs_ad',\n",
       "       'wb_ny_gdp_disc_cn', 'wb_ny_gdp_disc_kn', 'wb_ny_gdp_fcst_cd',\n",
       "       'wb_ny_gdp_fcst_cn', 'wb_ny_gdp_fcst_kd', 'wb_ny_gdp_fcst_kn',\n",
       "       'wb_ny_gdp_frst_rt_zs', 'wb_ny_gdp_minr_rt_zs', 'wb_ny_gdp_mktp_cd',\n",
       "       'wb_ny_gdp_mktp_cn', 'wb_ny_gdp_mktp_cn_ad', 'wb_ny_gdp_mktp_kd',\n",
       "       'wb_ny_gdp_mktp_kd_zg', 'wb_ny_gdp_mktp_kn', 'wb_ny_gdp_mktp_pp_cd',\n",
       "       'wb_ny_gdp_mktp_pp_kd', 'wb_ny_gdp_ngas_rt_zs', 'wb_ny_gdp_pcap_cd',\n",
       "       'wb_ny_gdp_pcap_cn', 'wb_ny_gdp_pcap_kd', 'wb_ny_gdp_pcap_kd_zg',\n",
       "       'wb_ny_gdp_pcap_kn', 'wb_ny_gdp_pcap_pp_cd', 'wb_ny_gdp_pcap_pp_kd',\n",
       "       'wb_ny_gdp_petr_rt_zs', 'wb_ny_gdp_totl_rt_zs', 'wb_sl_gdp_pcap_em_kd',\n",
       "       'wb_eg_gdp_puse_ko_pp_f', 'wb_eg_gdp_puse_ko_pp_kd_f',\n",
       "       'wb_er_gdp_fwtl_m3_kd_f', 'wb_ny_gdp_coal_rt_zs_f',\n",
       "       'wb_ny_gdp_defl_kd_zg_f', 'wb_ny_gdp_defl_kd_zg_ad_f',\n",
       "       'wb_ny_gdp_defl_zs_f', 'wb_ny_gdp_defl_zs_ad_f', 'wb_ny_gdp_disc_cn_f',\n",
       "       'wb_ny_gdp_disc_kn_f', 'wb_ny_gdp_fcst_cd_f', 'wb_ny_gdp_fcst_cn_f',\n",
       "       'wb_ny_gdp_fcst_kd_f', 'wb_ny_gdp_fcst_kn_f', 'wb_ny_gdp_frst_rt_zs_f',\n",
       "       'wb_ny_gdp_minr_rt_zs_f', 'wb_ny_gdp_mktp_cd_f', 'wb_ny_gdp_mktp_cn_f',\n",
       "       'wb_ny_gdp_mktp_cn_ad_f', 'wb_ny_gdp_mktp_kd_f',\n",
       "       'wb_ny_gdp_mktp_kd_zg_f', 'wb_ny_gdp_mktp_kn_f',\n",
       "       'wb_ny_gdp_mktp_pp_cd_f', 'wb_ny_gdp_mktp_pp_kd_f',\n",
       "       'wb_ny_gdp_ngas_rt_zs_f', 'wb_ny_gdp_pcap_cd_f', 'wb_ny_gdp_pcap_cn_f',\n",
       "       'wb_ny_gdp_pcap_kd_f', 'wb_ny_gdp_pcap_kd_zg_f', 'wb_ny_gdp_pcap_kn_f',\n",
       "       'wb_ny_gdp_pcap_pp_cd_f', 'wb_ny_gdp_pcap_pp_kd_f',\n",
       "       'wb_ny_gdp_petr_rt_zs_f', 'wb_ny_gdp_totl_rt_zs_f',\n",
       "       'wb_sl_gdp_pcap_em_kd_f'],\n",
       "      dtype='object')"
      ]
     },
     "execution_count": 33,
     "metadata": {},
     "output_type": "execute_result"
    }
   ],
   "source": [
    "df.filter(regex='(?i)gdp').columns"
   ]
  },
  {
   "cell_type": "markdown",
   "id": "25fcf33c-4c2f-427b-ba14-d368cf49de14",
   "metadata": {
    "tags": []
   },
   "source": [
    "### Potential target variables"
   ]
  },
  {
   "cell_type": "code",
   "execution_count": 29,
   "id": "bcaeedc5-86fc-4258-af01-3ed8804262fa",
   "metadata": {
    "tags": []
   },
   "outputs": [
    {
     "name": "stdout",
     "output_type": "stream",
     "text": [
      "Percent of observations filled: 0.15085962592102778\n"
     ]
    },
    {
     "data": {
      "text/plain": [
       "count     10586.000000\n",
       "mean       9690.569840\n",
       "std       18583.200485\n",
       "min           0.002425\n",
       "25%         768.882589\n",
       "50%        2703.457445\n",
       "75%        9553.073877\n",
       "max      240862.182448\n",
       "Name: wb_ny_gdp_pcap_cd, dtype: float64"
      ]
     },
     "execution_count": 29,
     "metadata": {},
     "output_type": "execute_result"
    }
   ],
   "source": [
    "# NY.GDP.PCAP.CD\n",
    "# Gross Domestic Product (GDP) per capita in current US dollars\n",
    "\n",
    "print(\"Percent of observations filled:\",\n",
    "      len(df[df.wb_ny_gdp_pcap_cd_f>0])/len(df))\n",
    "df['wb_ny_gdp_pcap_cd'].describe()"
   ]
  },
  {
   "cell_type": "code",
   "execution_count": 30,
   "id": "744572aa-0522-49fb-be41-8e3dbafb15a9",
   "metadata": {
    "tags": []
   },
   "outputs": [
    {
     "name": "stdout",
     "output_type": "stream",
     "text": [
      "Percent of observations filled: 0.07491025883242018\n"
     ]
    },
    {
     "data": {
      "text/plain": [
       "count      6698.000000\n",
       "mean      17326.619617\n",
       "std       20390.781572\n",
       "min         257.563528\n",
       "25%        3313.766015\n",
       "50%        9587.894276\n",
       "75%       24346.895482\n",
       "max      163542.784470\n",
       "Name: wb_ny_gdp_pcap_pp_cd, dtype: float64"
      ]
     },
     "execution_count": 30,
     "metadata": {},
     "output_type": "execute_result"
    }
   ],
   "source": [
    "# NY.GDP.PCAP.PP.CD\n",
    "# GDP per capita, PPP (current international $)\n",
    "\n",
    "print(\"Percent of observations filled:\",\n",
    "      len(df[df.wb_ny_gdp_pcap_pp_cd_f>0])/len(df))\n",
    "df['wb_ny_gdp_pcap_pp_cd'].describe()"
   ]
  },
  {
   "cell_type": "code",
   "execution_count": 31,
   "id": "79c56ff5-3cf7-491a-9280-4abb1c894d5b",
   "metadata": {
    "tags": []
   },
   "outputs": [
    {
     "name": "stdout",
     "output_type": "stream",
     "text": [
      "Percent of observations filled: 0.07812204798790856\n"
     ]
    },
    {
     "data": {
      "text/plain": [
       "count      6698.000000\n",
       "mean      22453.190874\n",
       "std       23858.157248\n",
       "min           1.960152\n",
       "25%        4738.534401\n",
       "50%       13489.424042\n",
       "75%       33252.851788\n",
       "max      173905.728769\n",
       "Name: wb_ny_gdp_pcap_pp_kd, dtype: float64"
      ]
     },
     "execution_count": 31,
     "metadata": {},
     "output_type": "execute_result"
    }
   ],
   "source": [
    "# NY.GDP.PCAP.PP.KD\n",
    "# GDP per capita, PPP (constant 2021 international $)\n",
    "\n",
    "print(\"Percent of observations filled:\",\n",
    "      len(df[df.wb_ny_gdp_pcap_pp_kd_f>0])/len(df))\n",
    "df['wb_ny_gdp_pcap_pp_kd'].describe()"
   ]
  }
 ],
 "metadata": {
  "kernelspec": {
   "display_name": "Python 3 (ipykernel)",
   "language": "python",
   "name": "python3"
  },
  "language_info": {
   "codemirror_mode": {
    "name": "ipython",
    "version": 3
   },
   "file_extension": ".py",
   "mimetype": "text/x-python",
   "name": "python",
   "nbconvert_exporter": "python",
   "pygments_lexer": "ipython3",
   "version": "3.10.9"
  }
 },
 "nbformat": 4,
 "nbformat_minor": 5
}
