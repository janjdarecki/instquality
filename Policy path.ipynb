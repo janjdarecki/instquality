{
 "cells": [
  {
   "cell_type": "code",
   "execution_count": 1,
   "id": "a443f6a2-16b0-44a4-a7cc-6a32bd59a6bb",
   "metadata": {
    "tags": []
   },
   "outputs": [],
   "source": [
    "import pandas as pd\n",
    "import numpy as np\n",
    "import zipfile\n",
    "\n",
    "from functions.load import *"
   ]
  },
  {
   "cell_type": "code",
   "execution_count": 6,
   "id": "8caac03d-ffb8-4aab-9f79-eab03ac65d23",
   "metadata": {
    "tags": []
   },
   "outputs": [],
   "source": [
    "import country_converter as coco\n",
    "\n",
    "def to_iso(series, target):\n",
    "    return coco.convert(series, to=target, not_found=np.nan)\n",
    "\n",
    "def to_region(series, scheme):\n",
    "    out = coco.convert(series, to=scheme, not_found=None)\n",
    "    return pd.Series(out, index=series.index, name=scheme)\n",
    "\n",
    "def adjust_cols(df, country, year, iso_code_1=None, iso_code_2=None, region=None):\n",
    "    df = df.sort_values(by=country).reset_index(drop=True)\n",
    "    df = df.rename(columns={country: 'country', year: 'year'})\n",
    "    df = df.drop(columns=[c for c in (iso_code_1, iso_code_2, region) if c], errors='ignore')\n",
    "    df['iso_code'] = to_iso(df['country'], 'ISO3')\n",
    "    df['region'] = to_region(df['country'], \"UNregion\")\n",
    "    df = df[['country', 'year', 'iso_code', 'region'] + [c for c in df.columns if c not in {'country', 'year', 'iso_code', 'region'}]]\n",
    "    df = df.sort_values(by=['country', 'year']).reset_index(drop=True)\n",
    "    return df\n",
    "\n",
    "countries = pd.Series([\"Germany\",\"Côte d’Ivoire\",\"Fiji\"])\n",
    "to_region(countries, 'UNregion')"
   ]
  },
  {
   "cell_type": "code",
   "execution_count": 2,
   "id": "0bc8bd67-12c2-48dd-90d0-c241fdeea741",
   "metadata": {
    "tags": []
   },
   "outputs": [
    {
     "name": "stdout",
     "output_type": "stream",
     "text": [
      "Loading pickles/EFW.xlsx\n",
      "Loading pickles/FIW.xlsx\n",
      "Loading pickles/IEF.csv\n",
      "Loading pickles/P5D.xls\n",
      "Loading pickles/PTS.xlsx\n",
      "Loading pickles/WGI.xlsx\n",
      "Loading pickles/WB_DATA.zip\n"
     ]
    }
   ],
   "source": [
    "datasets = load()\n",
    "\n",
    "(efw, # iso 1,2; 1970-2021\n",
    " fiw, # no iso; 2006-2023\n",
    " ief, # iso 1; 1995-2023\n",
    " p5d, # no iso; 1960-2020\n",
    " pts, # iso 2; 1976-2022\n",
    " wgi, # iso 2; 1996-2022\n",
    " wb # iso 2; 1960-2023\n",
    ") = (datasets[k] for k in [\"efw\", \"fiw\", \"ief\", \"p5d\", \"pts\", \"wgi\", \"wb\"])"
   ]
  },
  {
   "cell_type": "code",
   "execution_count": null,
   "id": "2e478179-d182-4e37-bdc1-b6b6619bf1eb",
   "metadata": {},
   "outputs": [],
   "source": [
    "# create concordance for all unique countries in datasets"
   ]
  },
  {
   "cell_type": "code",
   "execution_count": null,
   "id": "e9a47608-e55b-409a-ab50-33aa0a1707bd",
   "metadata": {},
   "outputs": [
    {
     "name": "stderr",
     "output_type": "stream",
     "text": [
      "2025-02-09 18:03:38.552487: I external/local_tsl/tsl/cuda/cudart_stub.cc:32] Could not find cuda drivers on your machine, GPU will not be used.\n",
      "2025-02-09 18:03:38.918876: I external/local_tsl/tsl/cuda/cudart_stub.cc:32] Could not find cuda drivers on your machine, GPU will not be used.\n",
      "2025-02-09 18:03:39.439476: I tensorflow/core/platform/cpu_feature_guard.cc:210] This TensorFlow binary is optimized to use available CPU instructions in performance-critical operations.\n",
      "To enable the following instructions: AVX2 FMA, in other operations, rebuild TensorFlow with the appropriate compiler flags.\n",
      "2025-02-09 18:03:47.940592: W tensorflow/compiler/tf2tensorrt/utils/py_utils.cc:38] TF-TRT Warning: Could not find TensorRT\n"
     ]
    },
    {
     "name": "stdout",
     "output_type": "stream",
     "text": [
      "Epoch 1/300\n"
     ]
    },
    {
     "name": "stderr",
     "output_type": "stream",
     "text": [
      "2025-02-09 18:04:01.210472: W external/local_tsl/tsl/framework/cpu_allocator_impl.cc:83] Allocation of 8913509640 exceeds 10% of free system memory.\n"
     ]
    },
    {
     "name": "stdout",
     "output_type": "stream",
     "text": [
      "\u001b[1m5054/5054\u001b[0m \u001b[32m━━━━━━━━━━━━━━━━━━━━\u001b[0m\u001b[37m\u001b[0m \u001b[1m32s\u001b[0m 6ms/step - accuracy: 0.6992 - loss: 0.7166 - val_accuracy: 0.8665 - val_loss: 0.3221\n",
      "Epoch 2/300\n",
      "\u001b[1m5054/5054\u001b[0m \u001b[32m━━━━━━━━━━━━━━━━━━━━\u001b[0m\u001b[37m\u001b[0m \u001b[1m29s\u001b[0m 6ms/step - accuracy: 0.8850 - loss: 0.2845 - val_accuracy: 0.9122 - val_loss: 0.2136\n",
      "Epoch 3/300\n",
      "\u001b[1m5054/5054\u001b[0m \u001b[32m━━━━━━━━━━━━━━━━━━━━\u001b[0m\u001b[37m\u001b[0m \u001b[1m29s\u001b[0m 6ms/step - accuracy: 0.9190 - loss: 0.2046 - val_accuracy: 0.9353 - val_loss: 0.1735\n",
      "Epoch 4/300\n",
      "\u001b[1m5054/5054\u001b[0m \u001b[32m━━━━━━━━━━━━━━━━━━━━\u001b[0m\u001b[37m\u001b[0m \u001b[1m29s\u001b[0m 6ms/step - accuracy: 0.9363 - loss: 0.1668 - val_accuracy: 0.9410 - val_loss: 0.1531\n",
      "Epoch 5/300\n",
      "\u001b[1m5054/5054\u001b[0m \u001b[32m━━━━━━━━━━━━━━━━━━━━\u001b[0m\u001b[37m\u001b[0m \u001b[1m29s\u001b[0m 6ms/step - accuracy: 0.9445 - loss: 0.1478 - val_accuracy: 0.9492 - val_loss: 0.1319\n",
      "Epoch 6/300\n",
      "\u001b[1m5054/5054\u001b[0m \u001b[32m━━━━━━━━━━━━━━━━━━━━\u001b[0m\u001b[37m\u001b[0m \u001b[1m29s\u001b[0m 6ms/step - accuracy: 0.9498 - loss: 0.1339 - val_accuracy: 0.9525 - val_loss: 0.1288\n",
      "Epoch 7/300\n",
      "\u001b[1m5054/5054\u001b[0m \u001b[32m━━━━━━━━━━━━━━━━━━━━\u001b[0m\u001b[37m\u001b[0m \u001b[1m29s\u001b[0m 6ms/step - accuracy: 0.9549 - loss: 0.1231 - val_accuracy: 0.9590 - val_loss: 0.1166\n",
      "Epoch 8/300\n",
      "\u001b[1m5054/5054\u001b[0m \u001b[32m━━━━━━━━━━━━━━━━━━━━\u001b[0m\u001b[37m\u001b[0m \u001b[1m29s\u001b[0m 6ms/step - accuracy: 0.9578 - loss: 0.1164 - val_accuracy: 0.9552 - val_loss: 0.1269\n",
      "Epoch 9/300\n",
      "\u001b[1m5054/5054\u001b[0m \u001b[32m━━━━━━━━━━━━━━━━━━━━\u001b[0m\u001b[37m\u001b[0m \u001b[1m29s\u001b[0m 6ms/step - accuracy: 0.9591 - loss: 0.1149 - val_accuracy: 0.9557 - val_loss: 0.1238\n",
      "Epoch 10/300\n",
      "\u001b[1m5054/5054\u001b[0m \u001b[32m━━━━━━━━━━━━━━━━━━━━\u001b[0m\u001b[37m\u001b[0m \u001b[1m29s\u001b[0m 6ms/step - accuracy: 0.9621 - loss: 0.1058 - val_accuracy: 0.9642 - val_loss: 0.1055\n",
      "Epoch 11/300\n",
      "\u001b[1m5054/5054\u001b[0m \u001b[32m━━━━━━━━━━━━━━━━━━━━\u001b[0m\u001b[37m\u001b[0m \u001b[1m29s\u001b[0m 6ms/step - accuracy: 0.9646 - loss: 0.0999 - val_accuracy: 0.9668 - val_loss: 0.0962\n",
      "Epoch 12/300\n",
      "\u001b[1m5054/5054\u001b[0m \u001b[32m━━━━━━━━━━━━━━━━━━━━\u001b[0m\u001b[37m\u001b[0m \u001b[1m29s\u001b[0m 6ms/step - accuracy: 0.9658 - loss: 0.0968 - val_accuracy: 0.9626 - val_loss: 0.1058\n",
      "Epoch 13/300\n",
      "\u001b[1m5054/5054\u001b[0m \u001b[32m━━━━━━━━━━━━━━━━━━━━\u001b[0m\u001b[37m\u001b[0m \u001b[1m29s\u001b[0m 6ms/step - accuracy: 0.9671 - loss: 0.0951 - val_accuracy: 0.9700 - val_loss: 0.0913\n",
      "Epoch 14/300\n",
      "\u001b[1m5054/5054\u001b[0m \u001b[32m━━━━━━━━━━━━━━━━━━━━\u001b[0m\u001b[37m\u001b[0m \u001b[1m29s\u001b[0m 6ms/step - accuracy: 0.9686 - loss: 0.0922 - val_accuracy: 0.9659 - val_loss: 0.0985\n",
      "Epoch 15/300\n",
      "\u001b[1m5054/5054\u001b[0m \u001b[32m━━━━━━━━━━━━━━━━━━━━\u001b[0m\u001b[37m\u001b[0m \u001b[1m29s\u001b[0m 6ms/step - accuracy: 0.9687 - loss: 0.0901 - val_accuracy: 0.9675 - val_loss: 0.0967\n",
      "Epoch 16/300\n",
      "\u001b[1m5054/5054\u001b[0m \u001b[32m━━━━━━━━━━━━━━━━━━━━\u001b[0m\u001b[37m\u001b[0m \u001b[1m29s\u001b[0m 6ms/step - accuracy: 0.9699 - loss: 0.0866 - val_accuracy: 0.9691 - val_loss: 0.0925\n",
      "Epoch 17/300\n",
      "\u001b[1m5054/5054\u001b[0m \u001b[32m━━━━━━━━━━━━━━━━━━━━\u001b[0m\u001b[37m\u001b[0m \u001b[1m29s\u001b[0m 6ms/step - accuracy: 0.9697 - loss: 0.0881 - val_accuracy: 0.9699 - val_loss: 0.0893\n",
      "Epoch 18/300\n",
      "\u001b[1m5054/5054\u001b[0m \u001b[32m━━━━━━━━━━━━━━━━━━━━\u001b[0m\u001b[37m\u001b[0m \u001b[1m29s\u001b[0m 6ms/step - accuracy: 0.9712 - loss: 0.0840 - val_accuracy: 0.9669 - val_loss: 0.0985\n",
      "Epoch 19/300\n",
      "\u001b[1m5054/5054\u001b[0m \u001b[32m━━━━━━━━━━━━━━━━━━━━\u001b[0m\u001b[37m\u001b[0m \u001b[1m29s\u001b[0m 6ms/step - accuracy: 0.9719 - loss: 0.0826 - val_accuracy: 0.9718 - val_loss: 0.0870\n",
      "Epoch 20/300\n",
      "\u001b[1m5054/5054\u001b[0m \u001b[32m━━━━━━━━━━━━━━━━━━━━\u001b[0m\u001b[37m\u001b[0m \u001b[1m29s\u001b[0m 6ms/step - accuracy: 0.9712 - loss: 0.0825 - val_accuracy: 0.9697 - val_loss: 0.0923\n",
      "Epoch 21/300\n",
      "\u001b[1m5054/5054\u001b[0m \u001b[32m━━━━━━━━━━━━━━━━━━━━\u001b[0m\u001b[37m\u001b[0m \u001b[1m29s\u001b[0m 6ms/step - accuracy: 0.9726 - loss: 0.0815 - val_accuracy: 0.9727 - val_loss: 0.0822\n",
      "Epoch 22/300\n",
      "\u001b[1m5054/5054\u001b[0m \u001b[32m━━━━━━━━━━━━━━━━━━━━\u001b[0m\u001b[37m\u001b[0m \u001b[1m29s\u001b[0m 6ms/step - accuracy: 0.9729 - loss: 0.0797 - val_accuracy: 0.9723 - val_loss: 0.0825\n",
      "Epoch 23/300\n",
      "\u001b[1m5054/5054\u001b[0m \u001b[32m━━━━━━━━━━━━━━━━━━━━\u001b[0m\u001b[37m\u001b[0m \u001b[1m29s\u001b[0m 6ms/step - accuracy: 0.9735 - loss: 0.0778 - val_accuracy: 0.9692 - val_loss: 0.0934\n",
      "Epoch 24/300\n",
      "\u001b[1m5054/5054\u001b[0m \u001b[32m━━━━━━━━━━━━━━━━━━━━\u001b[0m\u001b[37m\u001b[0m \u001b[1m30s\u001b[0m 6ms/step - accuracy: 0.9734 - loss: 0.0792 - val_accuracy: 0.9741 - val_loss: 0.0800\n",
      "Epoch 25/300\n",
      "\u001b[1m5054/5054\u001b[0m \u001b[32m━━━━━━━━━━━━━━━━━━━━\u001b[0m\u001b[37m\u001b[0m \u001b[1m29s\u001b[0m 6ms/step - accuracy: 0.9743 - loss: 0.0775 - val_accuracy: 0.9746 - val_loss: 0.0798\n",
      "Epoch 26/300\n",
      "\u001b[1m5054/5054\u001b[0m \u001b[32m━━━━━━━━━━━━━━━━━━━━\u001b[0m\u001b[37m\u001b[0m \u001b[1m29s\u001b[0m 6ms/step - accuracy: 0.9744 - loss: 0.0765 - val_accuracy: 0.9757 - val_loss: 0.0772\n",
      "Epoch 27/300\n",
      "\u001b[1m5054/5054\u001b[0m \u001b[32m━━━━━━━━━━━━━━━━━━━━\u001b[0m\u001b[37m\u001b[0m \u001b[1m29s\u001b[0m 6ms/step - accuracy: 0.9749 - loss: 0.0751 - val_accuracy: 0.9746 - val_loss: 0.0813\n",
      "Epoch 28/300\n",
      "\u001b[1m5054/5054\u001b[0m \u001b[32m━━━━━━━━━━━━━━━━━━━━\u001b[0m\u001b[37m\u001b[0m \u001b[1m29s\u001b[0m 6ms/step - accuracy: 0.9751 - loss: 0.0750 - val_accuracy: 0.9771 - val_loss: 0.0745\n",
      "Epoch 29/300\n",
      "\u001b[1m5054/5054\u001b[0m \u001b[32m━━━━━━━━━━━━━━━━━━━━\u001b[0m\u001b[37m\u001b[0m \u001b[1m29s\u001b[0m 6ms/step - accuracy: 0.9763 - loss: 0.0723 - val_accuracy: 0.9726 - val_loss: 0.0886\n",
      "Epoch 30/300\n",
      "\u001b[1m5054/5054\u001b[0m \u001b[32m━━━━━━━━━━━━━━━━━━━━\u001b[0m\u001b[37m\u001b[0m \u001b[1m29s\u001b[0m 6ms/step - accuracy: 0.9764 - loss: 0.0726 - val_accuracy: 0.9749 - val_loss: 0.0775\n",
      "Epoch 31/300\n",
      "\u001b[1m5054/5054\u001b[0m \u001b[32m━━━━━━━━━━━━━━━━━━━━\u001b[0m\u001b[37m\u001b[0m \u001b[1m29s\u001b[0m 6ms/step - accuracy: 0.9765 - loss: 0.0713 - val_accuracy: 0.9740 - val_loss: 0.0810\n",
      "Epoch 32/300\n",
      "\u001b[1m5054/5054\u001b[0m \u001b[32m━━━━━━━━━━━━━━━━━━━━\u001b[0m\u001b[37m\u001b[0m \u001b[1m29s\u001b[0m 6ms/step - accuracy: 0.9761 - loss: 0.0727 - val_accuracy: 0.9754 - val_loss: 0.0769\n",
      "Epoch 33/300\n",
      "\u001b[1m5054/5054\u001b[0m \u001b[32m━━━━━━━━━━━━━━━━━━━━\u001b[0m\u001b[37m\u001b[0m \u001b[1m29s\u001b[0m 6ms/step - accuracy: 0.9772 - loss: 0.0697 - val_accuracy: 0.9799 - val_loss: 0.0690\n",
      "Epoch 34/300\n",
      "\u001b[1m5054/5054\u001b[0m \u001b[32m━━━━━━━━━━━━━━━━━━━━\u001b[0m\u001b[37m\u001b[0m \u001b[1m29s\u001b[0m 6ms/step - accuracy: 0.9770 - loss: 0.0703 - val_accuracy: 0.9734 - val_loss: 0.0828\n",
      "Epoch 35/300\n",
      "\u001b[1m5054/5054\u001b[0m \u001b[32m━━━━━━━━━━━━━━━━━━━━\u001b[0m\u001b[37m\u001b[0m \u001b[1m30s\u001b[0m 6ms/step - accuracy: 0.9773 - loss: 0.0701 - val_accuracy: 0.9770 - val_loss: 0.0726\n",
      "Epoch 36/300\n",
      "\u001b[1m5054/5054\u001b[0m \u001b[32m━━━━━━━━━━━━━━━━━━━━\u001b[0m\u001b[37m\u001b[0m \u001b[1m29s\u001b[0m 6ms/step - accuracy: 0.9782 - loss: 0.0677 - val_accuracy: 0.9791 - val_loss: 0.0679\n",
      "Epoch 37/300\n",
      "\u001b[1m5054/5054\u001b[0m \u001b[32m━━━━━━━━━━━━━━━━━━━━\u001b[0m\u001b[37m\u001b[0m \u001b[1m29s\u001b[0m 6ms/step - accuracy: 0.9780 - loss: 0.0673 - val_accuracy: 0.9770 - val_loss: 0.0776\n",
      "Epoch 38/300\n",
      "\u001b[1m5054/5054\u001b[0m \u001b[32m━━━━━━━━━━━━━━━━━━━━\u001b[0m\u001b[37m\u001b[0m \u001b[1m29s\u001b[0m 6ms/step - accuracy: 0.9788 - loss: 0.0660 - val_accuracy: 0.9802 - val_loss: 0.0694\n",
      "Epoch 39/300\n",
      "\u001b[1m4904/5054\u001b[0m \u001b[32m━━━━━━━━━━━━━━━━━━━\u001b[0m\u001b[37m━\u001b[0m \u001b[1m0s\u001b[0m 6ms/step - accuracy: 0.9786 - loss: 0.0675"
     ]
    }
   ],
   "source": [
    "from keras.layers import LSTM\n",
    "from tensorflow.keras import datasets, layers, models\n",
    "from tensorflow import keras\n",
    "\n",
    "model = keras.Sequential([\n",
    "    keras.layers.LSTM(50, input_shape=(X_train.shape[1], X_train.shape[2]), return_sequences=True),\n",
    "    keras.layers.LSTM(50, return_sequences=False),\n",
    "    keras.layers.Dense(128, activation='relu'),\n",
    "    keras.layers.Dense(17, activation='softmax')\n",
    "])\n",
    "\n",
    "model.compile(optimizer='adam',\n",
    "              loss='sparse_categorical_crossentropy',\n",
    "              metrics=['accuracy'])\n",
    "\n",
    "model.fit(X_train, y_train, epochs=300, batch_size=100, validation_split=0.1, callbacks=[keras.callbacks.EarlyStopping(monitor='val_loss', patience=10)])\n",
    "test_loss, test_acc = model.evaluate(X_test, y_test)\n",
    "print('\\nTest accuracy:', test_acc)"
   ]
  }
 ],
 "metadata": {
  "kernelspec": {
   "display_name": "Python 3 (ipykernel)",
   "language": "python",
   "name": "python3"
  },
  "language_info": {
   "codemirror_mode": {
    "name": "ipython",
    "version": 3
   },
   "file_extension": ".py",
   "mimetype": "text/x-python",
   "name": "python",
   "nbconvert_exporter": "python",
   "pygments_lexer": "ipython3",
   "version": "3.10.9"
  }
 },
 "nbformat": 4,
 "nbformat_minor": 5
}
